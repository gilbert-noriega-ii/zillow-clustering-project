{
 "cells": [
  {
   "cell_type": "code",
   "execution_count": 1,
   "metadata": {},
   "outputs": [],
   "source": [
    "import pandas as pd\n",
    "import numpy as np\n",
    "from acquire import get_zillow_data"
   ]
  },
  {
   "cell_type": "code",
   "execution_count": 2,
   "metadata": {},
   "outputs": [],
   "source": [
    "def fill_nulls(df):\n",
    "    \n",
    "    df.poolcnt = df.poolcnt.fillna(0)\n",
    "    df.fireplacecnt = df.fireplacecnt.fillna(0)\n",
    "    df.heatingorsystemdesc = df.heatingorsystemdesc.fillna('None')\n",
    "    df.unitcnt = df.unitcnt.fillna(1)\n",
    "    return df"
   ]
  },
  {
   "cell_type": "code",
   "execution_count": 3,
   "metadata": {},
   "outputs": [],
   "source": [
    "def remove_outliers(df):\n",
    "    #filter out bedrooms and bathrooms == 0\n",
    "    df = df[(df.bedroomcnt > 0) & (df.bedroomcnt <= 7) & (df.bathroomcnt > 0) & (df.bathroomcnt <= 7)]\n",
    "    #filter out houses less than 400 square feet\n",
    "    df = df[(df.calculatedfinishedsquarefeet > 400) & (df.calculatedfinishedsquarefeet < 7000)]\n",
    "    #filter out all units not equal to 1\n",
    "    df = df[df.unitcnt == 1]\n",
    "    #removing heating or system source outliers\n",
    "    df = df[~df.heatingorsystemdesc.isin(['Yes', 'Gravity', 'Radiant', 'Baseboard', 'Solar', 'Forced air'])]\n",
    "    return df"
   ]
  },
  {
   "cell_type": "code",
   "execution_count": 4,
   "metadata": {},
   "outputs": [],
   "source": [
    "def create_features(df):\n",
    "    df['age'] = 2017 - df.yearbuilt\n",
    "    # create taxrate variable\n",
    "    df['taxrate'] = df.taxamount/df.taxvaluedollarcnt\n",
    "    # create acres variable\n",
    "    df['acres'] = df.lotsizesquarefeet/43560\n",
    "    # dollar per square foot-structure\n",
    "    df['structure_dollar_per_sqft'] = df.structuretaxvaluedollarcnt/df.calculatedfinishedsquarefeet\n",
    "    # dollar per square foot-land\n",
    "    df['land_dollar_per_sqft'] = df.landtaxvaluedollarcnt/df.lotsizesquarefeet\n",
    "    # ratio of beds to baths\n",
    "    df['bed_bath_ratio'] = df.bedroomcnt/df.bathroomcnt\n",
    "    #changing numbered labels into appropriate names\n",
    "    df['county'] = df.fips.replace([6037, 6059, 6111],['los_angeles', 'orange', 'ventura'])\n",
    "    df.heatingorsystemdesc = df.heatingorsystemdesc.replace(['Central', 'Floor/Wall', 'None'], ['central_heating', 'floor_wall_heating', 'no_heating'])\n",
    "    #creating dummy variables\n",
    "    county_df = pd.get_dummies(df.county)\n",
    "    heating_or_system_df = pd.get_dummies(df.heatingorsystemdesc)\n",
    "    #adding dummies back into main dataframe\n",
    "    df = pd.concat([df, county_df, heating_or_system_df], axis=1)\n",
    "    #duplicating logerror so it will be at the end of the list\n",
    "    df['error'] = df.logerror\n",
    "    #filter out outliers on new features\n",
    "    df = df[(df.acres < 10) & (df.taxrate < .05)]\n",
    "    #drop duplicate columns\n",
    "    df = df.drop(columns = ['bathroomcnt', 'county', 'taxamount', 'taxvaluedollarcnt', \n",
    "                       'structuretaxvaluedollarcnt', 'landtaxvaluedollarcnt', \n",
    "                       'yearbuilt', 'lotsizesquarefeet', 'logerror', 'heatingorsystemdesc'])\n",
    "    return df"
   ]
  },
  {
   "cell_type": "code",
   "execution_count": 5,
   "metadata": {},
   "outputs": [],
   "source": [
    "def handle_missing_values(df, prop_required_column, prop_required_row):\n",
    "    '''\n",
    "    This function takes in a Dataframe, \n",
    "    proportion(0-1) of nulls required for a column\n",
    "    and a proportion(0-1) of nulls required for rows\n",
    "    then returns a dataframe without the nulls \n",
    "    under the threshold\n",
    "    '''\n",
    "    #setting threshold for row, only accepts integer\n",
    "    thresh_row = int(round(prop_required_column*df.shape[0],0))\n",
    "    #dropping nulls under threshold\n",
    "    df.dropna(axis=1, thresh=thresh_row, inplace=True)\n",
    "    #setting threshold for columns, only accepts integer\n",
    "    thresh_col = int(round(prop_required_row*df.shape[1],0))\n",
    "    #dropping nulls under threshold\n",
    "    df.dropna(axis=0, thresh=thresh_col, inplace=True)\n",
    "    return df "
   ]
  },
  {
   "cell_type": "code",
   "execution_count": 6,
   "metadata": {},
   "outputs": [],
   "source": [
    "df = get_zillow_data()"
   ]
  },
  {
   "cell_type": "code",
   "execution_count": 7,
   "metadata": {},
   "outputs": [],
   "source": [
    "#filling nulls with appropriate values\n",
    "df = fill_nulls(df)"
   ]
  },
  {
   "cell_type": "code",
   "execution_count": 8,
   "metadata": {},
   "outputs": [],
   "source": [
    "df = remove_outliers(df)"
   ]
  },
  {
   "cell_type": "code",
   "execution_count": 9,
   "metadata": {},
   "outputs": [],
   "source": [
    "df = create_features(df)"
   ]
  },
  {
   "cell_type": "code",
   "execution_count": 10,
   "metadata": {},
   "outputs": [],
   "source": [
    "#filter out columns and rows with more than 40% null values\n",
    "df = handle_missing_values(df, .6, .6)"
   ]
  },
  {
   "cell_type": "code",
   "execution_count": 11,
   "metadata": {},
   "outputs": [],
   "source": [
    "#drop duplicate or unnecessary columns\n",
    "df = df.drop(columns = ['propertylandusetypeid', 'propertycountylandusecode', 'propertylandusedesc',\n",
    "                             'calculatedbathnbr', 'finishedsquarefeet12', 'heatingorsystemtypeid', \n",
    "                            'id', 'fips', 'fullbathcnt', 'propertyzoningdesc', 'unitcnt',\n",
    "                            'regionidcounty', 'id.1', 'assessmentyear', 'censustractandblock', 'rawcensustractandblock', 'buildingqualitytypeid'])"
   ]
  },
  {
   "cell_type": "code",
   "execution_count": 12,
   "metadata": {},
   "outputs": [
    {
     "name": "stdout",
     "output_type": "stream",
     "text": [
      "<class 'pandas.core.frame.DataFrame'>\n",
      "Int64Index: 50939 entries, 0 to 52441\n",
      "Data columns (total 24 columns):\n",
      " #   Column                        Non-Null Count  Dtype  \n",
      "---  ------                        --------------  -----  \n",
      " 0   parcelid                      50939 non-null  int64  \n",
      " 1   bedroomcnt                    50939 non-null  float64\n",
      " 2   calculatedfinishedsquarefeet  50939 non-null  float64\n",
      " 3   fireplacecnt                  50939 non-null  float64\n",
      " 4   latitude                      50939 non-null  float64\n",
      " 5   longitude                     50939 non-null  float64\n",
      " 6   poolcnt                       50939 non-null  float64\n",
      " 7   regionidcity                  50002 non-null  float64\n",
      " 8   regionidzip                   50929 non-null  float64\n",
      " 9   roomcnt                       50939 non-null  float64\n",
      " 10  transactiondate               50939 non-null  object \n",
      " 11  age                           50907 non-null  float64\n",
      " 12  taxrate                       50939 non-null  float64\n",
      " 13  acres                         50939 non-null  float64\n",
      " 14  structure_dollar_per_sqft     50884 non-null  float64\n",
      " 15  land_dollar_per_sqft          50939 non-null  float64\n",
      " 16  bed_bath_ratio                50939 non-null  float64\n",
      " 17  los_angeles                   50939 non-null  uint8  \n",
      " 18  orange                        50939 non-null  uint8  \n",
      " 19  ventura                       50939 non-null  uint8  \n",
      " 20  central_heating               50939 non-null  uint8  \n",
      " 21  floor_wall_heating            50939 non-null  uint8  \n",
      " 22  no_heating                    50939 non-null  uint8  \n",
      " 23  error                         50939 non-null  float64\n",
      "dtypes: float64(16), int64(1), object(1), uint8(6)\n",
      "memory usage: 7.7+ MB\n"
     ]
    }
   ],
   "source": [
    "df.info()"
   ]
  },
  {
   "cell_type": "code",
   "execution_count": 13,
   "metadata": {},
   "outputs": [],
   "source": [
    "df.dropna(inplace = True)"
   ]
  },
  {
   "cell_type": "code",
   "execution_count": 15,
   "metadata": {},
   "outputs": [],
   "source": [
    "def zillow_split(df):\n",
    "    '''\n",
    "    This function splits a dataframe into train, validate, and test sets\n",
    "    '''\n",
    "    train_and_validate, test = train_test_split(df, train_size=.8, random_state=123)\n",
    "    train, validate = train_test_split(train_and_validate, train_size = .7, random_state=123)\n",
    "    return train, validate, test"
   ]
  },
  {
   "cell_type": "code",
   "execution_count": null,
   "metadata": {},
   "outputs": [],
   "source": [
    "from sklearn.model_selection import train_test_split"
   ]
  },
  {
   "cell_type": "code",
   "execution_count": null,
   "metadata": {},
   "outputs": [],
   "source": [
    "train, validate, test = zillow_split(df)"
   ]
  },
  {
   "cell_type": "code",
   "execution_count": null,
   "metadata": {
    "scrolled": true
   },
   "outputs": [],
   "source": [
    "cols_fixed = ['buildingqualitytypeid', 'regionidcity', 'regionidzip', 'age']\n",
    "for col in cols_fixed:\n",
    "    mode = int(train[col].mode())\n",
    "    train[col].fillna(value = mode, inplace = True)\n",
    "    validate[col].fillna(value = mode, inplace = True)\n",
    "    test[col].fillna(value = mode, inplace = True)\n"
   ]
  },
  {
   "cell_type": "code",
   "execution_count": null,
   "metadata": {},
   "outputs": [],
   "source": [
    "#missing continuous values will be replaced with the median\n",
    "cols_cont = ['taxrate', 'acres', 'structure_dollar_per_sqft', 'land_dollar_per_sqft']\n",
    "for col in cols_cont:\n",
    "    median = train[col].median()\n",
    "    train[col].fillna(median, inplace=True)\n",
    "    validate[col].fillna(median, inplace=True)\n",
    "    test[col].fillna(median, inplace=True)"
   ]
  },
  {
   "cell_type": "code",
   "execution_count": null,
   "metadata": {},
   "outputs": [],
   "source": [
    "train.info()"
   ]
  },
  {
   "cell_type": "code",
   "execution_count": null,
   "metadata": {},
   "outputs": [],
   "source": [
    "validate.info()"
   ]
  },
  {
   "cell_type": "code",
   "execution_count": null,
   "metadata": {},
   "outputs": [],
   "source": [
    "test.info()"
   ]
  },
  {
   "cell_type": "code",
   "execution_count": null,
   "metadata": {},
   "outputs": [],
   "source": [
    "def scaled_zillow_columns(cached = True):\n",
    "    '''\n",
    "    This function uses a MinMaxScaler to scale numeric columns\n",
    "    from the wrangle_zillow function\n",
    "    '''\n",
    "    train, validate, test = wrangle_zillow()\n",
    "    columns_to_scale= ['bedroomcnt', 'buildingqualitytypeid', 'calculatedfinishedsquarefeet', 'fireplacecnt', 'latitude', 'longitude', 'poolcnt', 'regionidcity', 'regionidzip', 'roomcnt', 'age', 'taxrate', 'taxrate', 'acres', 'structure_dollar_per_sqft', 'land_dollar_per_sqft', 'bed_bath_ratio']\n",
    "    #initialize scaler function\n",
    "    scaler = sklearn.preprocessing.MinMaxScaler()\n",
    "    #adds '_scaled' to columns that will be scaled\n",
    "    new_column_names = [c + '_scaled' for c in columns_to_scale]\n",
    "    #fitting columns to be scaled\n",
    "    scaler.fit(train[columns_to_scale])\n",
    "    #adding scaled columns back into their respective dataframes\n",
    "    train = pd.concat([\n",
    "        train,\n",
    "        pd.DataFrame(scaler.transform(train[columns_to_scale]), columns=new_column_names, index=train.index),\n",
    "    ], axis=1)\n",
    "    validate = pd.concat([\n",
    "        validate,\n",
    "        pd.DataFrame(scaler.transform(validate[columns_to_scale]), columns=new_column_names, index=validate.index),\n",
    "    ], axis=1)\n",
    "    test = pd.concat([\n",
    "        test,\n",
    "        pd.DataFrame(scaler.transform(test[columns_to_scale]), columns=new_column_names, index=test.index),\n",
    "    ], axis=1)\n",
    "    \n",
    "    train = train.drop(columns = columns_to_scale)\n",
    "    validate= validate.drop(columns = columns_to_scale)\n",
    "    test = test.drop(columns = columns_to_scale)"
   ]
  },
  {
   "cell_type": "code",
   "execution_count": null,
   "metadata": {},
   "outputs": [],
   "source": [
    "train_scaled, validate_scaled, test_scaled = scaled_zillow_columns()"
   ]
  },
  {
   "cell_type": "code",
   "execution_count": null,
   "metadata": {},
   "outputs": [],
   "source": [
    "train_scaled.info()"
   ]
  },
  {
   "cell_type": "code",
   "execution_count": null,
   "metadata": {},
   "outputs": [],
   "source": []
  }
 ],
 "metadata": {
  "kernelspec": {
   "display_name": "Python 3",
   "language": "python",
   "name": "python3"
  },
  "language_info": {
   "codemirror_mode": {
    "name": "ipython",
    "version": 3
   },
   "file_extension": ".py",
   "mimetype": "text/x-python",
   "name": "python",
   "nbconvert_exporter": "python",
   "pygments_lexer": "ipython3",
   "version": "3.7.6"
  }
 },
 "nbformat": 4,
 "nbformat_minor": 4
}
