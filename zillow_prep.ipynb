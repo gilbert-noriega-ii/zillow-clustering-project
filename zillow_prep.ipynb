{
 "cells": [
  {
   "cell_type": "code",
   "execution_count": 1,
   "metadata": {},
   "outputs": [],
   "source": [
    "import pandas as pd\n",
    "import numpy as np\n",
    "from acquire import get_zillow_data"
   ]
  },
  {
   "cell_type": "code",
   "execution_count": 2,
   "metadata": {},
   "outputs": [],
   "source": [
    "def fill_nulls(df):\n",
    "    \n",
    "    df.poolcnt = df.poolcnt.fillna(0)\n",
    "    df.fireplacecnt = df.fireplacecnt.fillna(0)\n",
    "    df.heatingorsystemdesc = df.heatingorsystemdesc.fillna('None')\n",
    "    df.unitcnt = df.unitcnt.fillna(1)\n",
    "    return df"
   ]
  },
  {
   "cell_type": "code",
   "execution_count": 3,
   "metadata": {},
   "outputs": [],
   "source": [
    "def remove_outliers(df):\n",
    "    #filter out bedrooms and bathrooms == 0\n",
    "    df = df[(df.bedroomcnt > 0) & (df.bedroomcnt <= 7) & (df.bathroomcnt > 0) & (df.bathroomcnt <= 7)]\n",
    "    #filter out houses less than 400 square feet\n",
    "    df = df[(df.calculatedfinishedsquarefeet > 400) & (df.calculatedfinishedsquarefeet < 7000)]\n",
    "    #filter out all units not equal to 1\n",
    "    df = df[df.unitcnt == 1]\n",
    "    return df"
   ]
  },
  {
   "cell_type": "code",
   "execution_count": 4,
   "metadata": {},
   "outputs": [],
   "source": [
    "def create_features(df):\n",
    "    df['age'] = 2017 - df.yearbuilt\n",
    "    # create taxrate variable\n",
    "    df['taxrate'] = df.taxamount/df.taxvaluedollarcnt\n",
    "    # create acres variable\n",
    "    df['acres'] = df.lotsizesquarefeet/43560\n",
    "    # dollar per square foot-structure\n",
    "    df['structure_dollar_per_sqft'] = df.structuretaxvaluedollarcnt/df.calculatedfinishedsquarefeet\n",
    "    # dollar per square foot-land\n",
    "    df['land_dollar_per_sqft'] = df.landtaxvaluedollarcnt/df.lotsizesquarefeet\n",
    "    # ratio of beds to baths\n",
    "    df['bed_bath_ratio'] = df.bedroomcnt/df.bathroomcnt\n",
    "    #changing numbered labels into appropriate names\n",
    "    df['county'] = df.fips.replace([6037, 6059, 6111],['los_angeles', 'orange', 'ventura'])\n",
    "    #creating dummy variables\n",
    "    county_df = pd.get_dummies(df.county)\n",
    "    #adding dummies back into main dataframe\n",
    "    df = pd.concat([df, county_df], axis=1)\n",
    "    # 12447 is the ID for city of LA. \n",
    "    # I confirmed through sampling and plotting, as well as looking up a few addresses.\n",
    "    df['cola'] = df['regionidcity'].apply(lambda x: 1 if x == 12447.0 else 0)\n",
    "    #filter out outliers on new features\n",
    "    df = df[(df.acres < 10) & (df.taxrate < .05)]\n",
    "    #drop duplicate columns\n",
    "    df = df.drop(columns = ['bathroomcnt', 'county', 'taxamount', 'taxvaluedollarcnt', \n",
    "                       'structuretaxvaluedollarcnt', 'landtaxvaluedollarcnt', \n",
    "                       'yearbuilt', 'lotsizesquarefeet'])\n",
    "    return df"
   ]
  },
  {
   "cell_type": "code",
   "execution_count": 5,
   "metadata": {},
   "outputs": [],
   "source": [
    "def handle_missing_values(df, prop_required_column, prop_required_row):\n",
    "    '''\n",
    "    This function takes in a Dataframe, \n",
    "    proportion(0-1) of nulls required for a column\n",
    "    and a proportion(0-1) of nulls required for rows\n",
    "    then returns a dataframe without the nulls \n",
    "    under the threshold\n",
    "    '''\n",
    "    #setting threshold for row, only accepts integer\n",
    "    thresh_row = int(round(prop_required_column*df.shape[0],0))\n",
    "    #dropping nulls under threshold\n",
    "    df.dropna(axis=1, thresh=thresh_row, inplace=True)\n",
    "    #setting threshold for columns, only accepts integer\n",
    "    thresh_col = int(round(prop_required_row*df.shape[1],0))\n",
    "    #dropping nulls under threshold\n",
    "    df.dropna(axis=0, thresh=thresh_col, inplace=True)\n",
    "    return df "
   ]
  },
  {
   "cell_type": "code",
   "execution_count": 6,
   "metadata": {},
   "outputs": [],
   "source": [
    "df = get_zillow_data()"
   ]
  },
  {
   "cell_type": "code",
   "execution_count": 7,
   "metadata": {},
   "outputs": [],
   "source": [
    "#filling nulls with appropriate values\n",
    "df = fill_nulls(df)"
   ]
  },
  {
   "cell_type": "code",
   "execution_count": 8,
   "metadata": {},
   "outputs": [],
   "source": [
    "df = remove_outliers(df)"
   ]
  },
  {
   "cell_type": "code",
   "execution_count": 9,
   "metadata": {},
   "outputs": [],
   "source": [
    "df = create_features(df)"
   ]
  },
  {
   "cell_type": "code",
   "execution_count": 10,
   "metadata": {},
   "outputs": [],
   "source": [
    "#filter out columns and rows with more than 40% null values\n",
    "df = handle_missing_values(df, .6, .6)"
   ]
  },
  {
   "cell_type": "code",
   "execution_count": 11,
   "metadata": {},
   "outputs": [],
   "source": [
    "#drop duplicate or unnecessary columns\n",
    "df = df.drop(columns = ['propertylandusetypeid', 'calculatedbathnbr', \n",
    "                        'finishedsquarefeet12', 'heatingorsystemtypeid', \n",
    "                        'id', 'fips', 'fullbathcnt', 'propertyzoningdesc', \n",
    "                        'regionidcounty', 'id.1'])"
   ]
  },
  {
   "cell_type": "code",
   "execution_count": 12,
   "metadata": {},
   "outputs": [],
   "source": [
    "def zillow_split(df):\n",
    "    '''\n",
    "    This function splits a dataframe into train, validate, and test sets\n",
    "    '''\n",
    "    train_and_validate, test = train_test_split(df, train_size=.8, random_state=123)\n",
    "    train, validate = train_test_split(train_and_validate, train_size = .7, random_state=123)\n",
    "    return train, validate, test"
   ]
  },
  {
   "cell_type": "code",
   "execution_count": 13,
   "metadata": {},
   "outputs": [],
   "source": [
    "from sklearn.model_selection import train_test_split"
   ]
  },
  {
   "cell_type": "code",
   "execution_count": 14,
   "metadata": {},
   "outputs": [],
   "source": [
    "train, validate, test = zillow_split(df)"
   ]
  },
  {
   "cell_type": "code",
   "execution_count": 15,
   "metadata": {
    "scrolled": true
   },
   "outputs": [
    {
     "name": "stderr",
     "output_type": "stream",
     "text": [
      "/usr/local/anaconda3/lib/python3.7/site-packages/pandas/core/generic.py:6245: SettingWithCopyWarning: \n",
      "A value is trying to be set on a copy of a slice from a DataFrame\n",
      "\n",
      "See the caveats in the documentation: https://pandas.pydata.org/pandas-docs/stable/user_guide/indexing.html#returning-a-view-versus-a-copy\n",
      "  self._update_inplace(new_data)\n"
     ]
    }
   ],
   "source": [
    "cols_fixed = ['buildingqualitytypeid', 'regionidcity', 'censustractandblock', 'regionidzip', 'age']\n",
    "for col in cols_fixed:\n",
    "    mode = int(train[col].mode())\n",
    "    train[col].fillna(value = mode, inplace = True)\n",
    "    validate[col].fillna(value = mode, inplace = True)\n",
    "    test[col].fillna(value = mode, inplace = True)\n"
   ]
  },
  {
   "cell_type": "code",
   "execution_count": 16,
   "metadata": {},
   "outputs": [],
   "source": [
    "#missing continuous values will be replaced with the median\n",
    "cols_cont = ['taxrate', 'acres', 'structure_dollar_per_sqft', 'land_dollar_per_sqft']\n",
    "for col in cols_cont:\n",
    "    median = train[col].median()\n",
    "    train[col].fillna(median, inplace=True)\n",
    "    validate[col].fillna(median, inplace=True)\n",
    "    test[col].fillna(median, inplace=True)"
   ]
  },
  {
   "cell_type": "code",
   "execution_count": 17,
   "metadata": {},
   "outputs": [
    {
     "name": "stdout",
     "output_type": "stream",
     "text": [
      "<class 'pandas.core.frame.DataFrame'>\n",
      "Int64Index: 28854 entries, 3961 to 42104\n",
      "Data columns (total 30 columns):\n",
      " #   Column                        Non-Null Count  Dtype  \n",
      "---  ------                        --------------  -----  \n",
      " 0   parcelid                      28854 non-null  int64  \n",
      " 1   bedroomcnt                    28854 non-null  float64\n",
      " 2   buildingqualitytypeid         28854 non-null  float64\n",
      " 3   calculatedfinishedsquarefeet  28854 non-null  float64\n",
      " 4   fireplacecnt                  28854 non-null  float64\n",
      " 5   latitude                      28854 non-null  float64\n",
      " 6   longitude                     28854 non-null  float64\n",
      " 7   poolcnt                       28854 non-null  float64\n",
      " 8   propertycountylandusecode     28854 non-null  object \n",
      " 9   rawcensustractandblock        28854 non-null  float64\n",
      " 10  regionidcity                  28854 non-null  float64\n",
      " 11  regionidzip                   28854 non-null  float64\n",
      " 12  roomcnt                       28854 non-null  float64\n",
      " 13  unitcnt                       28854 non-null  float64\n",
      " 14  assessmentyear                28854 non-null  float64\n",
      " 15  censustractandblock           28854 non-null  float64\n",
      " 16  logerror                      28854 non-null  float64\n",
      " 17  transactiondate               28854 non-null  object \n",
      " 18  heatingorsystemdesc           28854 non-null  object \n",
      " 19  propertylandusedesc           28854 non-null  object \n",
      " 20  age                           28854 non-null  float64\n",
      " 21  taxrate                       28854 non-null  float64\n",
      " 22  acres                         28854 non-null  float64\n",
      " 23  structure_dollar_per_sqft     28854 non-null  float64\n",
      " 24  land_dollar_per_sqft          28854 non-null  float64\n",
      " 25  bed_bath_ratio                28854 non-null  float64\n",
      " 26  los_angeles                   28854 non-null  uint8  \n",
      " 27  orange                        28854 non-null  uint8  \n",
      " 28  ventura                       28854 non-null  uint8  \n",
      " 29  cola                          28854 non-null  int64  \n",
      "dtypes: float64(21), int64(2), object(4), uint8(3)\n",
      "memory usage: 6.2+ MB\n"
     ]
    }
   ],
   "source": [
    "train.info()"
   ]
  },
  {
   "cell_type": "code",
   "execution_count": 18,
   "metadata": {},
   "outputs": [
    {
     "name": "stdout",
     "output_type": "stream",
     "text": [
      "<class 'pandas.core.frame.DataFrame'>\n",
      "Int64Index: 12367 entries, 7806 to 29620\n",
      "Data columns (total 30 columns):\n",
      " #   Column                        Non-Null Count  Dtype  \n",
      "---  ------                        --------------  -----  \n",
      " 0   parcelid                      12367 non-null  int64  \n",
      " 1   bedroomcnt                    12367 non-null  float64\n",
      " 2   buildingqualitytypeid         12367 non-null  float64\n",
      " 3   calculatedfinishedsquarefeet  12367 non-null  float64\n",
      " 4   fireplacecnt                  12367 non-null  float64\n",
      " 5   latitude                      12367 non-null  float64\n",
      " 6   longitude                     12367 non-null  float64\n",
      " 7   poolcnt                       12367 non-null  float64\n",
      " 8   propertycountylandusecode     12367 non-null  object \n",
      " 9   rawcensustractandblock        12367 non-null  float64\n",
      " 10  regionidcity                  12367 non-null  float64\n",
      " 11  regionidzip                   12367 non-null  float64\n",
      " 12  roomcnt                       12367 non-null  float64\n",
      " 13  unitcnt                       12367 non-null  float64\n",
      " 14  assessmentyear                12367 non-null  float64\n",
      " 15  censustractandblock           12367 non-null  float64\n",
      " 16  logerror                      12367 non-null  float64\n",
      " 17  transactiondate               12367 non-null  object \n",
      " 18  heatingorsystemdesc           12367 non-null  object \n",
      " 19  propertylandusedesc           12367 non-null  object \n",
      " 20  age                           12367 non-null  float64\n",
      " 21  taxrate                       12367 non-null  float64\n",
      " 22  acres                         12367 non-null  float64\n",
      " 23  structure_dollar_per_sqft     12367 non-null  float64\n",
      " 24  land_dollar_per_sqft          12367 non-null  float64\n",
      " 25  bed_bath_ratio                12367 non-null  float64\n",
      " 26  los_angeles                   12367 non-null  uint8  \n",
      " 27  orange                        12367 non-null  uint8  \n",
      " 28  ventura                       12367 non-null  uint8  \n",
      " 29  cola                          12367 non-null  int64  \n",
      "dtypes: float64(21), int64(2), object(4), uint8(3)\n",
      "memory usage: 2.7+ MB\n"
     ]
    }
   ],
   "source": [
    "validate.info()"
   ]
  },
  {
   "cell_type": "code",
   "execution_count": 19,
   "metadata": {},
   "outputs": [
    {
     "name": "stdout",
     "output_type": "stream",
     "text": [
      "<class 'pandas.core.frame.DataFrame'>\n",
      "Int64Index: 10306 entries, 39813 to 16358\n",
      "Data columns (total 30 columns):\n",
      " #   Column                        Non-Null Count  Dtype  \n",
      "---  ------                        --------------  -----  \n",
      " 0   parcelid                      10306 non-null  int64  \n",
      " 1   bedroomcnt                    10306 non-null  float64\n",
      " 2   buildingqualitytypeid         10306 non-null  float64\n",
      " 3   calculatedfinishedsquarefeet  10306 non-null  float64\n",
      " 4   fireplacecnt                  10306 non-null  float64\n",
      " 5   latitude                      10306 non-null  float64\n",
      " 6   longitude                     10306 non-null  float64\n",
      " 7   poolcnt                       10306 non-null  float64\n",
      " 8   propertycountylandusecode     10306 non-null  object \n",
      " 9   rawcensustractandblock        10306 non-null  float64\n",
      " 10  regionidcity                  10306 non-null  float64\n",
      " 11  regionidzip                   10306 non-null  float64\n",
      " 12  roomcnt                       10306 non-null  float64\n",
      " 13  unitcnt                       10306 non-null  float64\n",
      " 14  assessmentyear                10306 non-null  float64\n",
      " 15  censustractandblock           10306 non-null  float64\n",
      " 16  logerror                      10306 non-null  float64\n",
      " 17  transactiondate               10306 non-null  object \n",
      " 18  heatingorsystemdesc           10306 non-null  object \n",
      " 19  propertylandusedesc           10306 non-null  object \n",
      " 20  age                           10306 non-null  float64\n",
      " 21  taxrate                       10306 non-null  float64\n",
      " 22  acres                         10306 non-null  float64\n",
      " 23  structure_dollar_per_sqft     10306 non-null  float64\n",
      " 24  land_dollar_per_sqft          10306 non-null  float64\n",
      " 25  bed_bath_ratio                10306 non-null  float64\n",
      " 26  los_angeles                   10306 non-null  uint8  \n",
      " 27  orange                        10306 non-null  uint8  \n",
      " 28  ventura                       10306 non-null  uint8  \n",
      " 29  cola                          10306 non-null  int64  \n",
      "dtypes: float64(21), int64(2), object(4), uint8(3)\n",
      "memory usage: 2.2+ MB\n"
     ]
    }
   ],
   "source": [
    "test.info()"
   ]
  },
  {
   "cell_type": "code",
   "execution_count": null,
   "metadata": {},
   "outputs": [],
   "source": []
  }
 ],
 "metadata": {
  "kernelspec": {
   "display_name": "Python 3",
   "language": "python",
   "name": "python3"
  },
  "language_info": {
   "codemirror_mode": {
    "name": "ipython",
    "version": 3
   },
   "file_extension": ".py",
   "mimetype": "text/x-python",
   "name": "python",
   "nbconvert_exporter": "python",
   "pygments_lexer": "ipython3",
   "version": "3.7.6"
  }
 },
 "nbformat": 4,
 "nbformat_minor": 4
}
